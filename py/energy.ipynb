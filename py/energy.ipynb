{
 "cells": [
  {
   "cell_type": "code",
   "execution_count": 2,
   "metadata": {},
   "outputs": [],
   "source": [
    "import warnings\n",
    "from importlib import reload\n",
    "\n",
    "with warnings.catch_warnings():\n",
    "    ## ignore future warnings from too-advanced numpy version\n",
    "    warnings.simplefilter(\"ignore\")    \n",
    "    from keras.models import Sequential\n",
    "    from keras.layers import Dense, Activation\n",
    "import pandas as pd, numpy as np\n",
    "\n",
    "from sklearn import preprocessing"
   ]
  },
  {
   "cell_type": "code",
   "execution_count": 42,
   "metadata": {},
   "outputs": [],
   "source": [
    "import energy\n",
    "from energy import MissingStrategy\n",
    "_ = reload(energy)"
   ]
  },
  {
   "cell_type": "code",
   "execution_count": 8,
   "metadata": {},
   "outputs": [],
   "source": [
    "MAX_ROWS =8*1000*1000\n",
    "try:\n",
    "    combined_df = energy.Data.Merged(MAX_ROWS).data\n",
    "except FileNotFoundError:\n",
    "    weather = energy.Data.Weather(MAX_ROWS)\n",
    "    meter = energy.Data.Meter(MAX_ROWS)\n",
    "    buildings = energy.Data.Buildings()\n",
    "    combined_df = energy.merge_data(\n",
    "        weather_df=weather.train, \n",
    "        meter_df=meter.train,\n",
    "        buildings_df=buildings.data)"
   ]
  },
  {
   "cell_type": "code",
   "execution_count": 6,
   "metadata": {},
   "outputs": [],
   "source": [
    "## combined_df.to_csv(energy.Data.Merged.train_file,index=False)"
   ]
  },
  {
   "cell_type": "code",
   "execution_count": 9,
   "metadata": {},
   "outputs": [
    {
     "data": {
      "text/html": [
       "<div>\n",
       "<style scoped>\n",
       "    .dataframe tbody tr th:only-of-type {\n",
       "        vertical-align: middle;\n",
       "    }\n",
       "\n",
       "    .dataframe tbody tr th {\n",
       "        vertical-align: top;\n",
       "    }\n",
       "\n",
       "    .dataframe thead th {\n",
       "        text-align: right;\n",
       "    }\n",
       "</style>\n",
       "<table border=\"1\" class=\"dataframe\">\n",
       "  <thead>\n",
       "    <tr style=\"text-align: right;\">\n",
       "      <th></th>\n",
       "      <th>building_id</th>\n",
       "      <th>meter</th>\n",
       "      <th>timestamp</th>\n",
       "      <th>meter_reading</th>\n",
       "      <th>site_id</th>\n",
       "      <th>primary_use</th>\n",
       "      <th>square_feet</th>\n",
       "      <th>year_built</th>\n",
       "      <th>floor_count</th>\n",
       "      <th>air_temperature</th>\n",
       "      <th>cloud_coverage</th>\n",
       "      <th>dew_temperature</th>\n",
       "      <th>precip_depth_1_hr</th>\n",
       "      <th>sea_level_pressure</th>\n",
       "      <th>wind_direction</th>\n",
       "      <th>wind_speed</th>\n",
       "    </tr>\n",
       "  </thead>\n",
       "  <tbody>\n",
       "    <tr>\n",
       "      <td>0</td>\n",
       "      <td>0</td>\n",
       "      <td>0</td>\n",
       "      <td>2016-01-01 00:00:00</td>\n",
       "      <td>0.0</td>\n",
       "      <td>0</td>\n",
       "      <td>Education</td>\n",
       "      <td>7432</td>\n",
       "      <td>2008.0</td>\n",
       "      <td>NaN</td>\n",
       "      <td>25.0</td>\n",
       "      <td>6.0</td>\n",
       "      <td>20.0</td>\n",
       "      <td>NaN</td>\n",
       "      <td>1019.7</td>\n",
       "      <td>0.0</td>\n",
       "      <td>0.0</td>\n",
       "    </tr>\n",
       "    <tr>\n",
       "      <td>1</td>\n",
       "      <td>1</td>\n",
       "      <td>0</td>\n",
       "      <td>2016-01-01 00:00:00</td>\n",
       "      <td>0.0</td>\n",
       "      <td>0</td>\n",
       "      <td>Education</td>\n",
       "      <td>2720</td>\n",
       "      <td>2004.0</td>\n",
       "      <td>NaN</td>\n",
       "      <td>25.0</td>\n",
       "      <td>6.0</td>\n",
       "      <td>20.0</td>\n",
       "      <td>NaN</td>\n",
       "      <td>1019.7</td>\n",
       "      <td>0.0</td>\n",
       "      <td>0.0</td>\n",
       "    </tr>\n",
       "    <tr>\n",
       "      <td>2</td>\n",
       "      <td>2</td>\n",
       "      <td>0</td>\n",
       "      <td>2016-01-01 00:00:00</td>\n",
       "      <td>0.0</td>\n",
       "      <td>0</td>\n",
       "      <td>Education</td>\n",
       "      <td>5376</td>\n",
       "      <td>1991.0</td>\n",
       "      <td>NaN</td>\n",
       "      <td>25.0</td>\n",
       "      <td>6.0</td>\n",
       "      <td>20.0</td>\n",
       "      <td>NaN</td>\n",
       "      <td>1019.7</td>\n",
       "      <td>0.0</td>\n",
       "      <td>0.0</td>\n",
       "    </tr>\n",
       "    <tr>\n",
       "      <td>3</td>\n",
       "      <td>3</td>\n",
       "      <td>0</td>\n",
       "      <td>2016-01-01 00:00:00</td>\n",
       "      <td>0.0</td>\n",
       "      <td>0</td>\n",
       "      <td>Education</td>\n",
       "      <td>23685</td>\n",
       "      <td>2002.0</td>\n",
       "      <td>NaN</td>\n",
       "      <td>25.0</td>\n",
       "      <td>6.0</td>\n",
       "      <td>20.0</td>\n",
       "      <td>NaN</td>\n",
       "      <td>1019.7</td>\n",
       "      <td>0.0</td>\n",
       "      <td>0.0</td>\n",
       "    </tr>\n",
       "    <tr>\n",
       "      <td>4</td>\n",
       "      <td>4</td>\n",
       "      <td>0</td>\n",
       "      <td>2016-01-01 00:00:00</td>\n",
       "      <td>0.0</td>\n",
       "      <td>0</td>\n",
       "      <td>Education</td>\n",
       "      <td>116607</td>\n",
       "      <td>1975.0</td>\n",
       "      <td>NaN</td>\n",
       "      <td>25.0</td>\n",
       "      <td>6.0</td>\n",
       "      <td>20.0</td>\n",
       "      <td>NaN</td>\n",
       "      <td>1019.7</td>\n",
       "      <td>0.0</td>\n",
       "      <td>0.0</td>\n",
       "    </tr>\n",
       "  </tbody>\n",
       "</table>\n",
       "</div>"
      ],
      "text/plain": [
       "   building_id  meter            timestamp  meter_reading  site_id  \\\n",
       "0            0      0  2016-01-01 00:00:00            0.0        0   \n",
       "1            1      0  2016-01-01 00:00:00            0.0        0   \n",
       "2            2      0  2016-01-01 00:00:00            0.0        0   \n",
       "3            3      0  2016-01-01 00:00:00            0.0        0   \n",
       "4            4      0  2016-01-01 00:00:00            0.0        0   \n",
       "\n",
       "  primary_use  square_feet  year_built  floor_count  air_temperature  \\\n",
       "0   Education         7432      2008.0          NaN             25.0   \n",
       "1   Education         2720      2004.0          NaN             25.0   \n",
       "2   Education         5376      1991.0          NaN             25.0   \n",
       "3   Education        23685      2002.0          NaN             25.0   \n",
       "4   Education       116607      1975.0          NaN             25.0   \n",
       "\n",
       "   cloud_coverage  dew_temperature  precip_depth_1_hr  sea_level_pressure  \\\n",
       "0             6.0             20.0                NaN              1019.7   \n",
       "1             6.0             20.0                NaN              1019.7   \n",
       "2             6.0             20.0                NaN              1019.7   \n",
       "3             6.0             20.0                NaN              1019.7   \n",
       "4             6.0             20.0                NaN              1019.7   \n",
       "\n",
       "   wind_direction  wind_speed  \n",
       "0             0.0         0.0  \n",
       "1             0.0         0.0  \n",
       "2             0.0         0.0  \n",
       "3             0.0         0.0  \n",
       "4             0.0         0.0  "
      ]
     },
     "execution_count": 9,
     "metadata": {},
     "output_type": "execute_result"
    }
   ],
   "source": [
    "combined_df.head()"
   ]
  },
  {
   "cell_type": "code",
   "execution_count": null,
   "metadata": {},
   "outputs": [],
   "source": [
    "weather_cols = [\n",
    "    'cloud_coverage', 'dew_temperature', 'precip_depth_1_hr', \n",
    "    'sea_level_pressure', 'wind_direction', 'wind_speed']\n",
    "X_df = combined_df[[\n",
    "    'square_feet', 'meter', 'year_built', 'primary_use'] +\n",
    "    weather_cols]\n",
    "\n",
    "le = preprocessing.LabelEncoder()\n",
    "le.fit(list(X_df.loc[:, 'primary_use']))\n",
    "X_df.loc[:, 'primary_use'] = le.transform(list(X_df['primary_use']))"
   ]
  },
  {
   "cell_type": "code",
   "execution_count": 11,
   "metadata": {},
   "outputs": [],
   "source": [
    "X = X_df.values\n",
    "y = combined_df[['meter_reading']].values\n",
    "assert not np.isnan(y).any()"
   ]
  },
  {
   "cell_type": "code",
   "execution_count": 12,
   "metadata": {},
   "outputs": [],
   "source": [
    "missing_strategy = energy.MissingStrategy.USE_COLUMN_MEAN\n",
    "X, y = energy.handle_missing_predictor_values(X, y, missing_strategy)\n",
    "assert not np.isnan(X).any()"
   ]
  },
  {
   "cell_type": "code",
   "execution_count": 13,
   "metadata": {},
   "outputs": [],
   "source": [
    "X_scaled = preprocessing.scale(X)"
   ]
  },
  {
   "cell_type": "code",
   "execution_count": 27,
   "metadata": {},
   "outputs": [],
   "source": [
    "model = Sequential()\n",
    "model.add(Dense(32, activation='relu', input_dim=X.shape[1]))\n",
    "model.add(Dense(16, activation='relu'))\n",
    "model.add(Dense(8, activation='relu'))\n",
    "model.add(Dense(1, activation='relu'))"
   ]
  },
  {
   "cell_type": "code",
   "execution_count": 43,
   "metadata": {},
   "outputs": [],
   "source": [
    "rmsle = energy.define_rmsle(X_df.shape[0])\n",
    "model.compile(optimizer='rmsprop',\n",
    "              loss='mse', metrics=['mse', rmsle])"
   ]
  },
  {
   "cell_type": "code",
   "execution_count": null,
   "metadata": {},
   "outputs": [
    {
     "name": "stdout",
     "output_type": "stream",
     "text": [
      "Epoch 1/10\n",
      "8000000/8000000 [==============================] - 10s 1us/step - loss: 42002068514.4200 - mse: 42002079744.0000 - rmsle: 0.1589\n",
      "Epoch 2/10\n",
      "8000000/8000000 [==============================] - 10s 1us/step - loss: 41989273606.5200 - mse: 41989259264.0000 - rmsle: 0.1593\n",
      "Epoch 3/10\n",
      "8000000/8000000 [==============================] - 10s 1us/step - loss: 41975853777.8000 - mse: 41975844864.0000 - rmsle: 0.1596\n",
      "Epoch 4/10\n",
      "8000000/8000000 [==============================] - 10s 1us/step - loss: 41962462621.7800 - mse: 41962487808.0000 - rmsle: 0.1597\n",
      "Epoch 5/10\n",
      "8000000/8000000 [==============================] - 9s 1us/step - loss: 41946741775.6000 - mse: 41946767360.0000 - rmsle: 0.1597\n",
      "Epoch 6/10\n",
      "8000000/8000000 [==============================] - 9s 1us/step - loss: 41929068996.6000 - mse: 41929076736.0000 - rmsle: 0.1597\n",
      "Epoch 7/10\n",
      "8000000/8000000 [==============================] - 10s 1us/step - loss: 41906991904.0600 - mse: 41906999296.0000 - rmsle: 0.1596\n",
      "Epoch 8/10\n",
      "7500000/8000000 [===========================>..] - ETA: 0s - loss: 41962593856.1707 - mse: 41962594304.0000 - rmsle: 0.1595"
     ]
    }
   ],
   "source": [
    "model.fit(X_scaled, y, epochs=10, batch_size=10000)"
   ]
  },
  {
   "cell_type": "code",
   "execution_count": null,
   "metadata": {},
   "outputs": [],
   "source": []
  }
 ],
 "metadata": {
  "kernelspec": {
   "display_name": "Python 3",
   "language": "python",
   "name": "python3"
  },
  "language_info": {
   "codemirror_mode": {
    "name": "ipython",
    "version": 3
   },
   "file_extension": ".py",
   "mimetype": "text/x-python",
   "name": "python",
   "nbconvert_exporter": "python",
   "pygments_lexer": "ipython3",
   "version": "3.6.8"
  }
 },
 "nbformat": 4,
 "nbformat_minor": 4
}
