{
 "cells": [
  {
   "cell_type": "code",
   "execution_count": 17,
   "metadata": {},
   "outputs": [],
   "source": [
    "import warnings\n",
    "from importlib import reload\n",
    "\n",
    "with warnings.catch_warnings():\n",
    "    ## ignore future warnings from too-advanced numpy version\n",
    "    warnings.simplefilter(\"ignore\")    \n",
    "    from keras.models import Sequential\n",
    "    from keras.layers import Dense, Activation, Dropout\n",
    "    from keras.models import load_model\n",
    "import pandas as pd, numpy as np"
   ]
  },
  {
   "cell_type": "code",
   "execution_count": 14,
   "metadata": {},
   "outputs": [],
   "source": [
    "import energy\n",
    "_ = reload(energy)\n",
    "from energy import MissingStrategy, ModelingConfigA"
   ]
  },
  {
   "cell_type": "code",
   "execution_count": null,
   "metadata": {},
   "outputs": [],
   "source": [
    "MAX_ROWS = 8*1000*1000\n",
    "time_cols = ['second', 'minute', 'day', 'week']\n",
    "weather_cols = [\n",
    "    'cloud_coverage', 'dew_temperature', 'precip_depth_1_hr', \n",
    "    'sea_level_pressure', 'wind_direction', 'wind_speed']\n",
    "other_cols = ['square_feet', 'meter', 'year_built', 'primary_use']\n",
    "predictor_cols = time_cols + weather_cols + other_cols\n",
    "modeling_config = ModelingConfigA(\n",
    "    paths=energy.ModelingPaths(), missing_strategy=MissingStrategy.USE_COLUMN_MEAN)"
   ]
  },
  {
   "cell_type": "code",
   "execution_count": 4,
   "metadata": {},
   "outputs": [],
   "source": [
    "\n",
    "try:\n",
    "    combined_df = energy.Data.Merged(MAX_ROWS).read_train()\n",
    "except FileNotFoundError:\n",
    "    weather = energy.Data.Weather(MAX_ROWS)\n",
    "    meter = energy.Data.Meter(MAX_ROWS)\n",
    "    buildings = energy.Data.Buildings()\n",
    "    combined_df = energy.merge_data(\n",
    "        weather_df=weather.train, \n",
    "        meter_df=meter.train,\n",
    "        buildings_df=buildings.data)\n",
    "    "
   ]
  },
  {
   "cell_type": "code",
   "execution_count": 5,
   "metadata": {},
   "outputs": [],
   "source": [
    "if 'minute' not in combined_df.columns:\n",
    "    energy.extract_time_columns_from_timestamps(combined_df)"
   ]
  },
  {
   "cell_type": "code",
   "execution_count": 9,
   "metadata": {},
   "outputs": [],
   "source": [
    "# combined_df.to_csv(energy.Data.Merged.train_file, index=False)"
   ]
  },
  {
   "cell_type": "code",
   "execution_count": 10,
   "metadata": {},
   "outputs": [
    {
     "data": {
      "text/html": [
       "<div>\n",
       "<style scoped>\n",
       "    .dataframe tbody tr th:only-of-type {\n",
       "        vertical-align: middle;\n",
       "    }\n",
       "\n",
       "    .dataframe tbody tr th {\n",
       "        vertical-align: top;\n",
       "    }\n",
       "\n",
       "    .dataframe thead th {\n",
       "        text-align: right;\n",
       "    }\n",
       "</style>\n",
       "<table border=\"1\" class=\"dataframe\">\n",
       "  <thead>\n",
       "    <tr style=\"text-align: right;\">\n",
       "      <th></th>\n",
       "      <th>building_id</th>\n",
       "      <th>meter</th>\n",
       "      <th>timestamp</th>\n",
       "      <th>meter_reading</th>\n",
       "      <th>site_id</th>\n",
       "      <th>primary_use</th>\n",
       "      <th>square_feet</th>\n",
       "      <th>year_built</th>\n",
       "      <th>floor_count</th>\n",
       "      <th>air_temperature</th>\n",
       "      <th>cloud_coverage</th>\n",
       "      <th>dew_temperature</th>\n",
       "      <th>precip_depth_1_hr</th>\n",
       "      <th>sea_level_pressure</th>\n",
       "      <th>wind_direction</th>\n",
       "      <th>wind_speed</th>\n",
       "      <th>minute</th>\n",
       "      <th>second</th>\n",
       "      <th>week</th>\n",
       "      <th>day</th>\n",
       "    </tr>\n",
       "  </thead>\n",
       "  <tbody>\n",
       "    <tr>\n",
       "      <td>0</td>\n",
       "      <td>building_id</td>\n",
       "      <td>meter</td>\n",
       "      <td>timestamp</td>\n",
       "      <td>meter_reading</td>\n",
       "      <td>site_id</td>\n",
       "      <td>primary_use</td>\n",
       "      <td>square_feet</td>\n",
       "      <td>year_built</td>\n",
       "      <td>floor_count</td>\n",
       "      <td>air_temperature</td>\n",
       "      <td>cloud_coverage</td>\n",
       "      <td>dew_temperature</td>\n",
       "      <td>precip_depth_1_hr</td>\n",
       "      <td>sea_level_pressure</td>\n",
       "      <td>wind_direction</td>\n",
       "      <td>wind_speed</td>\n",
       "      <td>minute</td>\n",
       "      <td>second</td>\n",
       "      <td>week</td>\n",
       "      <td>day</td>\n",
       "    </tr>\n",
       "    <tr>\n",
       "      <td>1</td>\n",
       "      <td>0</td>\n",
       "      <td>0</td>\n",
       "      <td>2016-01-01 00:00:00</td>\n",
       "      <td>0.0</td>\n",
       "      <td>0</td>\n",
       "      <td>Education</td>\n",
       "      <td>7432</td>\n",
       "      <td>2008.0</td>\n",
       "      <td>NaN</td>\n",
       "      <td>25.0</td>\n",
       "      <td>6.0</td>\n",
       "      <td>20.0</td>\n",
       "      <td>NaN</td>\n",
       "      <td>1019.7</td>\n",
       "      <td>0.0</td>\n",
       "      <td>0.0</td>\n",
       "      <td>0</td>\n",
       "      <td>0</td>\n",
       "      <td>53</td>\n",
       "      <td>1</td>\n",
       "    </tr>\n",
       "    <tr>\n",
       "      <td>2</td>\n",
       "      <td>1</td>\n",
       "      <td>0</td>\n",
       "      <td>2016-01-01 00:00:00</td>\n",
       "      <td>0.0</td>\n",
       "      <td>0</td>\n",
       "      <td>Education</td>\n",
       "      <td>2720</td>\n",
       "      <td>2004.0</td>\n",
       "      <td>NaN</td>\n",
       "      <td>25.0</td>\n",
       "      <td>6.0</td>\n",
       "      <td>20.0</td>\n",
       "      <td>NaN</td>\n",
       "      <td>1019.7</td>\n",
       "      <td>0.0</td>\n",
       "      <td>0.0</td>\n",
       "      <td>0</td>\n",
       "      <td>0</td>\n",
       "      <td>53</td>\n",
       "      <td>1</td>\n",
       "    </tr>\n",
       "    <tr>\n",
       "      <td>3</td>\n",
       "      <td>2</td>\n",
       "      <td>0</td>\n",
       "      <td>2016-01-01 00:00:00</td>\n",
       "      <td>0.0</td>\n",
       "      <td>0</td>\n",
       "      <td>Education</td>\n",
       "      <td>5376</td>\n",
       "      <td>1991.0</td>\n",
       "      <td>NaN</td>\n",
       "      <td>25.0</td>\n",
       "      <td>6.0</td>\n",
       "      <td>20.0</td>\n",
       "      <td>NaN</td>\n",
       "      <td>1019.7</td>\n",
       "      <td>0.0</td>\n",
       "      <td>0.0</td>\n",
       "      <td>0</td>\n",
       "      <td>0</td>\n",
       "      <td>53</td>\n",
       "      <td>1</td>\n",
       "    </tr>\n",
       "    <tr>\n",
       "      <td>4</td>\n",
       "      <td>3</td>\n",
       "      <td>0</td>\n",
       "      <td>2016-01-01 00:00:00</td>\n",
       "      <td>0.0</td>\n",
       "      <td>0</td>\n",
       "      <td>Education</td>\n",
       "      <td>23685</td>\n",
       "      <td>2002.0</td>\n",
       "      <td>NaN</td>\n",
       "      <td>25.0</td>\n",
       "      <td>6.0</td>\n",
       "      <td>20.0</td>\n",
       "      <td>NaN</td>\n",
       "      <td>1019.7</td>\n",
       "      <td>0.0</td>\n",
       "      <td>0.0</td>\n",
       "      <td>0</td>\n",
       "      <td>0</td>\n",
       "      <td>53</td>\n",
       "      <td>1</td>\n",
       "    </tr>\n",
       "  </tbody>\n",
       "</table>\n",
       "</div>"
      ],
      "text/plain": [
       "   building_id  meter            timestamp  meter_reading  site_id  \\\n",
       "0  building_id  meter            timestamp  meter_reading  site_id   \n",
       "1            0      0  2016-01-01 00:00:00            0.0        0   \n",
       "2            1      0  2016-01-01 00:00:00            0.0        0   \n",
       "3            2      0  2016-01-01 00:00:00            0.0        0   \n",
       "4            3      0  2016-01-01 00:00:00            0.0        0   \n",
       "\n",
       "   primary_use  square_feet  year_built  floor_count  air_temperature  \\\n",
       "0  primary_use  square_feet  year_built  floor_count  air_temperature   \n",
       "1    Education         7432      2008.0          NaN             25.0   \n",
       "2    Education         2720      2004.0          NaN             25.0   \n",
       "3    Education         5376      1991.0          NaN             25.0   \n",
       "4    Education        23685      2002.0          NaN             25.0   \n",
       "\n",
       "   cloud_coverage  dew_temperature  precip_depth_1_hr  sea_level_pressure  \\\n",
       "0  cloud_coverage  dew_temperature  precip_depth_1_hr  sea_level_pressure   \n",
       "1             6.0             20.0                NaN              1019.7   \n",
       "2             6.0             20.0                NaN              1019.7   \n",
       "3             6.0             20.0                NaN              1019.7   \n",
       "4             6.0             20.0                NaN              1019.7   \n",
       "\n",
       "   wind_direction  wind_speed  minute  second  week  day  \n",
       "0  wind_direction  wind_speed  minute  second  week  day  \n",
       "1             0.0         0.0       0       0    53    1  \n",
       "2             0.0         0.0       0       0    53    1  \n",
       "3             0.0         0.0       0       0    53    1  \n",
       "4             0.0         0.0       0       0    53    1  "
      ]
     },
     "execution_count": 10,
     "metadata": {},
     "output_type": "execute_result"
    }
   ],
   "source": [
    "combined_df.head()"
   ]
  },
  {
   "cell_type": "code",
   "execution_count": 7,
   "metadata": {},
   "outputs": [],
   "source": [
    "X_train, y_train = energy.prepare_data(\n",
    "    df=combined_df, is_train=True, \n",
    "    predictor_cols=predictor_cols, response_col='meter_reading', \n",
    "    config=modeling_config)\n",
    "assert not np.isnan(X_train).any()\n",
    "assert not np.isnan(y_train).any()"
   ]
  },
  {
   "cell_type": "code",
   "execution_count": 9,
   "metadata": {},
   "outputs": [],
   "source": [
    "model = Sequential()\n",
    "def add_relu_with_scaled_dropout(dim):\n",
    "    model.add(Dense(dim, activation='relu'))\n",
    "    model.add(Dropout(1 / dim))\n",
    "\n",
    "model.add(Dense(12, activation='relu', input_dim=X_train.shape[1]))\n",
    "model.add(Dropout(1/12))\n",
    "for dim in (10, 8, 6):\n",
    "    add_relu_with_scaled_dropout(dim)\n",
    "model.add(Dense(4, activation='relu'))\n",
    "model.add(Dense(2, activation='relu'))\n",
    "model.add(Dense(1, activation='relu'))"
   ]
  },
  {
   "cell_type": "code",
   "execution_count": 10,
   "metadata": {},
   "outputs": [],
   "source": [
    "train_rmsle = energy.define_rmsle(train_rmsle.shape[0])\n",
    "model.compile(optimizer='Nadam',\n",
    "              loss='mean_squared_logarithmic_error', metrics=[train_rmsle])"
   ]
  },
  {
   "cell_type": "code",
   "execution_count": 11,
   "metadata": {},
   "outputs": [
    {
     "name": "stdout",
     "output_type": "stream",
     "text": [
      "WARNING:tensorflow:From /home/mson/.local/lib/python3.6/site-packages/tensorflow/python/ops/math_grad.py:1250: add_dispatch_support.<locals>.wrapper (from tensorflow.python.ops.array_ops) is deprecated and will be removed in a future version.\n",
      "Instructions for updating:\n",
      "Use tf.where in 2.0, which has the same broadcast rule as np.where\n",
      "WARNING:tensorflow:From /home/mson/.local/lib/python3.6/site-packages/keras/backend/tensorflow_backend.py:422: The name tf.global_variables is deprecated. Please use tf.compat.v1.global_variables instead.\n",
      "\n",
      "Epoch 1/6\n",
      "8000000/8000000 [==============================] - 22s 3us/step - loss: 5.1828 - rmsle: 0.0789\n",
      "Epoch 2/6\n",
      "8000000/8000000 [==============================] - 21s 3us/step - loss: 3.8987 - rmsle: 0.0698\n",
      "Epoch 3/6\n",
      "8000000/8000000 [==============================] - 21s 3us/step - loss: 3.6412 - rmsle: 0.0675\n",
      "Epoch 4/6\n",
      "8000000/8000000 [==============================] - 21s 3us/step - loss: 3.4993 - rmsle: 0.0661\n",
      "Epoch 5/6\n",
      "8000000/8000000 [==============================] - 21s 3us/step - loss: 3.3135 - rmsle: 0.0644\n",
      "Epoch 6/6\n",
      "8000000/8000000 [==============================] - 22s 3us/step - loss: 3.2476 - rmsle: 0.0637\n"
     ]
    },
    {
     "data": {
      "text/plain": [
       "<keras.callbacks.callbacks.History at 0x7f2f8a80fe80>"
      ]
     },
     "execution_count": 11,
     "metadata": {},
     "output_type": "execute_result"
    }
   ],
   "source": [
    "model.fit(X_train, y_train, epochs=6, batch_size=10000)"
   ]
  },
  {
   "cell_type": "code",
   "execution_count": 16,
   "metadata": {},
   "outputs": [],
   "source": [
    "model.save(modeling_config.paths.trained_model)"
   ]
  },
  {
   "cell_type": "markdown",
   "metadata": {},
   "source": [
    "### Evaluate model."
   ]
  },
  {
   "cell_type": "code",
   "execution_count": 18,
   "metadata": {},
   "outputs": [],
   "source": [
    "validation_df = energy.Data.Merged(MAX_ROWS).read_val()"
   ]
  },
  {
   "cell_type": "code",
   "execution_count": 19,
   "metadata": {},
   "outputs": [],
   "source": [
    "X_val, y_val = energy.prepare_data(\n",
    "    df=validation_df, is_train=False, \n",
    "    predictor_cols=predictor_cols, response_col='meter_reading', \n",
    "    config=modeling_config)\n",
    "assert not np.isnan(X_val).any()\n",
    "assert not np.isnan(y_val).any()"
   ]
  },
  {
   "cell_type": "code",
   "execution_count": 21,
   "metadata": {},
   "outputs": [],
   "source": [
    "val_rmsle = energy.define_rmsle(X_val.shape[0])\n",
    "model = load_model(modeling_config.paths.trained_model, custom_objects={'rmsle': val_rmsle})"
   ]
  },
  {
   "cell_type": "code",
   "execution_count": null,
   "metadata": {},
   "outputs": [],
   "source": [
    "y_pred = model.predict_proba(X_val)"
   ]
  },
  {
   "cell_type": "code",
   "execution_count": null,
   "metadata": {},
   "outputs": [],
   "source": [
    "val_rmsle(y_val, y_pred)"
   ]
  }
 ],
 "metadata": {
  "kernelspec": {
   "display_name": "Python 3",
   "language": "python",
   "name": "python3"
  },
  "language_info": {
   "codemirror_mode": {
    "name": "ipython",
    "version": 3
   },
   "file_extension": ".py",
   "mimetype": "text/x-python",
   "name": "python",
   "nbconvert_exporter": "python",
   "pygments_lexer": "ipython3",
   "version": "3.6.8"
  }
 },
 "nbformat": 4,
 "nbformat_minor": 4
}
